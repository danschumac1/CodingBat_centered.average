{
 "cells": [
  {
   "cell_type": "markdown",
   "id": "1c827e88",
   "metadata": {},
   "source": [
    "# List-2 > centered_average"
   ]
  },
  {
   "cell_type": "markdown",
   "id": "aefc321b",
   "metadata": {},
   "source": [
    "Return the \"centered\" average of an array of ints, which we'll say is the mean average of the values, except ignoring the largest and smallest values in the array. If there are multiple copies of the smallest value, ignore just one copy, and likewise for the largest value. Use int division to produce the final average. You may assume that the array is length 3 or more.\n",
    "\n",
    "\n",
    "centered_average([1, 2, 3, 4, 100]) → 3\n",
    "\n",
    "centered_average([1, 1, 5, 5, 10, 8, 7]) → 5\n",
    "\n",
    "centered_average([-10, -4, -2, -4, -2, 0]) → -3"
   ]
  },
  {
   "cell_type": "code",
   "execution_count": null,
   "id": "a596f7d6",
   "metadata": {},
   "outputs": [],
   "source": [
    "def centered_average(nums):\n",
    "  nums.remove(max(nums))\n",
    "  nums.remove(min(nums))\n",
    "  return sum(nums)/len(nums)"
   ]
  }
 ],
 "metadata": {
  "kernelspec": {
   "display_name": "Python 3 (ipykernel)",
   "language": "python",
   "name": "python3"
  },
  "language_info": {
   "codemirror_mode": {
    "name": "ipython",
    "version": 3
   },
   "file_extension": ".py",
   "mimetype": "text/x-python",
   "name": "python",
   "nbconvert_exporter": "python",
   "pygments_lexer": "ipython3",
   "version": "3.9.12"
  }
 },
 "nbformat": 4,
 "nbformat_minor": 5
}
